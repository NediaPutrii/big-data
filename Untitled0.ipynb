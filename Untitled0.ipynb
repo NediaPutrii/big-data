{
  "nbformat": 4,
  "nbformat_minor": 0,
  "metadata": {
    "colab": {
      "name": "Untitled0.ipynb",
      "provenance": [],
      "authorship_tag": "ABX9TyMTMIjSMlgssYERxNCvAM+H",
      "include_colab_link": true
    },
    "kernelspec": {
      "name": "python3",
      "display_name": "Python 3"
    },
    "language_info": {
      "name": "python"
    }
  },
  "cells": [
    {
      "cell_type": "markdown",
      "metadata": {
        "id": "view-in-github",
        "colab_type": "text"
      },
      "source": [
        "<a href=\"https://colab.research.google.com/github/NediaPutrii/big-data/blob/main/Untitled0.ipynb\" target=\"_parent\"><img src=\"https://colab.research.google.com/assets/colab-badge.svg\" alt=\"Open In Colab\"/></a>"
      ]
    },
    {
      "cell_type": "code",
      "metadata": {
        "id": "A9F7iLo09QZ0"
      },
      "source": [
        "def func1(a, b):\n",
        "    return a / b\n",
        "  \n",
        "def func2(x):\n",
        "    a = x\n",
        "    b = x - 1\n",
        "    return func1(a, b)"
      ],
      "execution_count": null,
      "outputs": []
    },
    {
      "cell_type": "markdown",
      "metadata": {
        "id": "AQfHvVLuFJDB"
      },
      "source": [
        "**Controlling Exceptions: %xmode**"
      ]
    },
    {
      "cell_type": "code",
      "metadata": {
        "colab": {
          "base_uri": "https://localhost:8080/",
          "height": 313
        },
        "id": "-n-fimkK96Jg",
        "outputId": "84ac9cf9-eca2-4f19-f35a-811270571dba"
      },
      "source": [
        "func2(1)"
      ],
      "execution_count": null,
      "outputs": [
        {
          "output_type": "error",
          "ename": "TypeError",
          "evalue": "ignored",
          "traceback": [
            "\u001b[0;31m---------------------------------------------------------------------------\u001b[0m",
            "\u001b[0;31mTypeError\u001b[0m                                 Traceback (most recent call last)",
            "\u001b[0;32m<ipython-input-17-7cb498ea7ed1>\u001b[0m in \u001b[0;36m<module>\u001b[0;34m()\u001b[0m\n\u001b[0;32m----> 1\u001b[0;31m \u001b[0mfunc2\u001b[0m\u001b[0;34m(\u001b[0m\u001b[0;36m1\u001b[0m\u001b[0;34m)\u001b[0m\u001b[0;34m\u001b[0m\u001b[0;34m\u001b[0m\u001b[0m\n\u001b[0m        \u001b[0;36mglobal\u001b[0m \u001b[0;36mfunc2\u001b[0m \u001b[0;34m= <function func2 at 0x7f1023672ef0>\u001b[0m\n",
            "\u001b[0;32m<ipython-input-16-b8d84c2f64f3>\u001b[0m in \u001b[0;36mfunc2\u001b[0;34m(x=1)\u001b[0m\n\u001b[1;32m      5\u001b[0m     \u001b[0ma\u001b[0m \u001b[0;34m=\u001b[0m \u001b[0mx\u001b[0m\u001b[0;34m\u001b[0m\u001b[0;34m\u001b[0m\u001b[0m\n\u001b[1;32m      6\u001b[0m     \u001b[0mb\u001b[0m \u001b[0;34m=\u001b[0m \u001b[0mx\u001b[0m \u001b[0;34m-\u001b[0m \u001b[0;36m1\u001b[0m\u001b[0;34m\u001b[0m\u001b[0;34m\u001b[0m\u001b[0m\n\u001b[0;32m----> 7\u001b[0;31m     \u001b[0;32mreturn\u001b[0m \u001b[0mfunc2\u001b[0m\u001b[0;34m(\u001b[0m\u001b[0ma\u001b[0m\u001b[0;34m,\u001b[0m \u001b[0mb\u001b[0m\u001b[0;34m)\u001b[0m\u001b[0;34m\u001b[0m\u001b[0;34m\u001b[0m\u001b[0m\n\u001b[0m        \u001b[0;36mglobal\u001b[0m \u001b[0;36mfunc2\u001b[0m \u001b[0;34m= <function func2 at 0x7f1023672ef0>\u001b[0m\u001b[0;34m\n        \u001b[0m\u001b[0;36ma\u001b[0m \u001b[0;34m= 1\u001b[0m\u001b[0;34m\n        \u001b[0m\u001b[0;36mb\u001b[0m \u001b[0;34m= 0\u001b[0m\n",
            "\u001b[0;31mTypeError\u001b[0m: func2() takes 1 positional argument but 2 were given"
          ]
        }
      ]
    },
    {
      "cell_type": "markdown",
      "metadata": {
        "id": "IvysDJR4G-2K"
      },
      "source": [
        "Lalu panggil func2 untuk mengecek traceback untuk melihat apa yang terjadi\n",
        "\n",
        "Lalu kita bisa menggunakan magic function exception mode (%xmode) untuk mengubah informasi exception apa yang ingin kita tampilkan.\n",
        "Ada 3 macam %xmode :"
      ]
    },
    {
      "cell_type": "code",
      "metadata": {
        "colab": {
          "base_uri": "https://localhost:8080/"
        },
        "id": "k2iC5Xkh-PAN",
        "outputId": "0128d9c5-2b2e-41a7-a0ef-89be34fdcbf7"
      },
      "source": [
        "%xmode Plain"
      ],
      "execution_count": null,
      "outputs": [
        {
          "output_type": "stream",
          "text": [
            "Exception reporting mode: Plain\n"
          ],
          "name": "stdout"
        }
      ]
    },
    {
      "cell_type": "markdown",
      "metadata": {
        "id": "J8B9n4TIJXiO"
      },
      "source": [
        "1. Mode exception : Plain, \n",
        "mode ini biasanya memberimu lebih sedikit informasi terkait error yang terjadi"
      ]
    },
    {
      "cell_type": "code",
      "metadata": {
        "colab": {
          "base_uri": "https://localhost:8080/",
          "height": 286
        },
        "id": "aLsb6N7Q-RQu",
        "outputId": "27dbbce7-097f-44cc-dac6-da6ac9cd03b4"
      },
      "source": [
        "func2(1)"
      ],
      "execution_count": null,
      "outputs": [
        {
          "output_type": "error",
          "ename": "ZeroDivisionError",
          "evalue": "ignored",
          "traceback": [
            "Traceback \u001b[0;36m(most recent call last)\u001b[0m:\n",
            "  File \u001b[1;32m\"<ipython-input-7-7cb498ea7ed1>\"\u001b[0m, line \u001b[1;32m1\u001b[0m, in \u001b[1;35m<module>\u001b[0m\n    func2(1)\n",
            "  File \u001b[1;32m\"<ipython-input-4-9b01cf0b0f56>\"\u001b[0m, line \u001b[1;32m6\u001b[0m, in \u001b[1;35mfunc2\u001b[0m\n    return func1(a, b)\n",
            "\u001b[0;36m  File \u001b[0;32m\"<ipython-input-4-9b01cf0b0f56>\"\u001b[0;36m, line \u001b[0;32m2\u001b[0;36m, in \u001b[0;35mfunc1\u001b[0;36m\u001b[0m\n\u001b[0;31m    return a / b\u001b[0m\n",
            "\u001b[0;31mZeroDivisionError\u001b[0m\u001b[0;31m:\u001b[0m division by zero\n"
          ]
        }
      ]
    },
    {
      "cell_type": "markdown",
      "metadata": {
        "id": "O0_KIo4iKk3H"
      },
      "source": [
        "panggil func2, dan di printlah error dengan mode plain, yang menampilkan exception secara simple/plain"
      ]
    },
    {
      "cell_type": "code",
      "metadata": {
        "colab": {
          "base_uri": "https://localhost:8080/"
        },
        "id": "TVu1EnHp-YJP",
        "outputId": "9e34f510-bb32-403b-da70-e5fdc0abf508"
      },
      "source": [
        "%xmode Verbose"
      ],
      "execution_count": null,
      "outputs": [
        {
          "output_type": "stream",
          "text": [
            "Exception reporting mode: Verbose\n"
          ],
          "name": "stdout"
        }
      ]
    },
    {
      "cell_type": "markdown",
      "metadata": {
        "id": "caFhLKLKK3Fk"
      },
      "source": [
        "2. Mode Exception : Varbose, mode ini menampilkan extra informasi terkait exception termasuk argument fungsi yang dipanggil"
      ]
    },
    {
      "cell_type": "code",
      "metadata": {
        "colab": {
          "base_uri": "https://localhost:8080/",
          "height": 313
        },
        "id": "6WApMTwA-bf7",
        "outputId": "e559520a-2cce-4f0f-df0d-8d2ecb9f8c89"
      },
      "source": [
        "func2(1)"
      ],
      "execution_count": null,
      "outputs": [
        {
          "output_type": "error",
          "ename": "TypeError",
          "evalue": "ignored",
          "traceback": [
            "\u001b[0;31m---------------------------------------------------------------------------\u001b[0m",
            "\u001b[0;31mTypeError\u001b[0m                                 Traceback (most recent call last)",
            "\u001b[0;32m<ipython-input-29-7cb498ea7ed1>\u001b[0m in \u001b[0;36m<module>\u001b[0;34m()\u001b[0m\n\u001b[0;32m----> 1\u001b[0;31m \u001b[0mfunc2\u001b[0m\u001b[0;34m(\u001b[0m\u001b[0;36m1\u001b[0m\u001b[0;34m)\u001b[0m\u001b[0;34m\u001b[0m\u001b[0;34m\u001b[0m\u001b[0m\n\u001b[0m        \u001b[0;36mglobal\u001b[0m \u001b[0;36mfunc2\u001b[0m \u001b[0;34m= <function func2 at 0x7f1023672ef0>\u001b[0m\n",
            "\u001b[0;32m<ipython-input-16-b8d84c2f64f3>\u001b[0m in \u001b[0;36mfunc2\u001b[0;34m(x=1)\u001b[0m\n\u001b[1;32m      5\u001b[0m     \u001b[0ma\u001b[0m \u001b[0;34m=\u001b[0m \u001b[0mx\u001b[0m\u001b[0;34m\u001b[0m\u001b[0;34m\u001b[0m\u001b[0m\n\u001b[1;32m      6\u001b[0m     \u001b[0mb\u001b[0m \u001b[0;34m=\u001b[0m \u001b[0mx\u001b[0m \u001b[0;34m-\u001b[0m \u001b[0;36m1\u001b[0m\u001b[0;34m\u001b[0m\u001b[0;34m\u001b[0m\u001b[0m\n\u001b[0;32m----> 7\u001b[0;31m     \u001b[0;32mreturn\u001b[0m \u001b[0mfunc2\u001b[0m\u001b[0;34m(\u001b[0m\u001b[0ma\u001b[0m\u001b[0;34m,\u001b[0m \u001b[0mb\u001b[0m\u001b[0;34m)\u001b[0m\u001b[0;34m\u001b[0m\u001b[0;34m\u001b[0m\u001b[0m\n\u001b[0m        \u001b[0;36mglobal\u001b[0m \u001b[0;36mfunc2\u001b[0m \u001b[0;34m= <function func2 at 0x7f1023672ef0>\u001b[0m\u001b[0;34m\n        \u001b[0m\u001b[0;36ma\u001b[0m \u001b[0;34m= 1\u001b[0m\u001b[0;34m\n        \u001b[0m\u001b[0;36mb\u001b[0m \u001b[0;34m= 0\u001b[0m\n",
            "\u001b[0;31mTypeError\u001b[0m: func2() takes 1 positional argument but 2 were given"
          ]
        }
      ]
    },
    {
      "cell_type": "markdown",
      "metadata": {
        "id": "l0QeFZiRL4-k"
      },
      "source": [
        "panggil func2, dan ditampilkan exception yang berbeda dari sebelumnya yaitu exception Varbose, yang menampilkan extra information terkait error"
      ]
    },
    {
      "cell_type": "code",
      "metadata": {
        "colab": {
          "base_uri": "https://localhost:8080/"
        },
        "id": "SGTkJTi7Mb8n",
        "outputId": "9ab5263e-97fa-4bb6-f55d-7f6d1a7769cd"
      },
      "source": [
        "%debug"
      ],
      "execution_count": null,
      "outputs": [
        {
          "output_type": "stream",
          "text": [
            "> \u001b[0;32m<ipython-input-16-b8d84c2f64f3>\u001b[0m(7)\u001b[0;36mfunc2\u001b[0;34m()\u001b[0m\n",
            "\u001b[0;32m      3 \u001b[0;31m\u001b[0;34m\u001b[0m\u001b[0m\n",
            "\u001b[0m\u001b[0;32m      4 \u001b[0;31m\u001b[0;32mdef\u001b[0m \u001b[0mfunc2\u001b[0m\u001b[0;34m(\u001b[0m\u001b[0mx\u001b[0m\u001b[0;34m)\u001b[0m\u001b[0;34m:\u001b[0m\u001b[0;34m\u001b[0m\u001b[0;34m\u001b[0m\u001b[0m\n",
            "\u001b[0m\u001b[0;32m      5 \u001b[0;31m    \u001b[0ma\u001b[0m \u001b[0;34m=\u001b[0m \u001b[0mx\u001b[0m\u001b[0;34m\u001b[0m\u001b[0;34m\u001b[0m\u001b[0m\n",
            "\u001b[0m\u001b[0;32m      6 \u001b[0;31m    \u001b[0mb\u001b[0m \u001b[0;34m=\u001b[0m \u001b[0mx\u001b[0m \u001b[0;34m-\u001b[0m \u001b[0;36m1\u001b[0m\u001b[0;34m\u001b[0m\u001b[0;34m\u001b[0m\u001b[0m\n",
            "\u001b[0m\u001b[0;32m----> 7 \u001b[0;31m    \u001b[0;32mreturn\u001b[0m \u001b[0mfunc2\u001b[0m\u001b[0;34m(\u001b[0m\u001b[0ma\u001b[0m\u001b[0;34m,\u001b[0m \u001b[0mb\u001b[0m\u001b[0;34m)\u001b[0m\u001b[0;34m\u001b[0m\u001b[0;34m\u001b[0m\u001b[0m\n",
            "\u001b[0m\n",
            "ipdb> print(a)\n",
            "1\n",
            "ipdb> print(b)\n",
            "0\n",
            "ipdb> quit\n"
          ],
          "name": "stdout"
        }
      ]
    },
    {
      "cell_type": "markdown",
      "metadata": {
        "id": "ghBVWYAzUoGu"
      },
      "source": [
        "**Debugging: When Reading Tracebacks Is Not Enough**\n",
        "\n",
        "\n",
        "dengan %debug maka akan ditampilkan prompt interaktif, dimana kita bisa explore variable yang kita inginkan yang terdapat pada exception\n",
        "\n",
        "\n",
        "lalu ketik quit jika sudah tidak ada variable yang ingin di cek"
      ]
    },
    {
      "cell_type": "code",
      "metadata": {
        "colab": {
          "base_uri": "https://localhost:8080/"
        },
        "id": "sh94FbpJOjo5",
        "outputId": "c1c923d8-8afe-4a97-cd86-b5b6bc58eb8d"
      },
      "source": [
        "%debug"
      ],
      "execution_count": null,
      "outputs": [
        {
          "output_type": "stream",
          "text": [
            "> \u001b[0;32m<ipython-input-16-b8d84c2f64f3>\u001b[0m(7)\u001b[0;36mfunc2\u001b[0;34m()\u001b[0m\n",
            "\u001b[0;32m      3 \u001b[0;31m\u001b[0;34m\u001b[0m\u001b[0m\n",
            "\u001b[0m\u001b[0;32m      4 \u001b[0;31m\u001b[0;32mdef\u001b[0m \u001b[0mfunc2\u001b[0m\u001b[0;34m(\u001b[0m\u001b[0mx\u001b[0m\u001b[0;34m)\u001b[0m\u001b[0;34m:\u001b[0m\u001b[0;34m\u001b[0m\u001b[0;34m\u001b[0m\u001b[0m\n",
            "\u001b[0m\u001b[0;32m      5 \u001b[0;31m    \u001b[0ma\u001b[0m \u001b[0;34m=\u001b[0m \u001b[0mx\u001b[0m\u001b[0;34m\u001b[0m\u001b[0;34m\u001b[0m\u001b[0m\n",
            "\u001b[0m\u001b[0;32m      6 \u001b[0;31m    \u001b[0mb\u001b[0m \u001b[0;34m=\u001b[0m \u001b[0mx\u001b[0m \u001b[0;34m-\u001b[0m \u001b[0;36m1\u001b[0m\u001b[0;34m\u001b[0m\u001b[0;34m\u001b[0m\u001b[0m\n",
            "\u001b[0m\u001b[0;32m----> 7 \u001b[0;31m    \u001b[0;32mreturn\u001b[0m \u001b[0mfunc2\u001b[0m\u001b[0;34m(\u001b[0m\u001b[0ma\u001b[0m\u001b[0;34m,\u001b[0m \u001b[0mb\u001b[0m\u001b[0;34m)\u001b[0m\u001b[0;34m\u001b[0m\u001b[0;34m\u001b[0m\u001b[0m\n",
            "\u001b[0m\n",
            "ipdb> print(x)\n",
            "1\n",
            "ipdb> up\n",
            "> \u001b[0;32m<ipython-input-29-7cb498ea7ed1>\u001b[0m(1)\u001b[0;36m<module>\u001b[0;34m()\u001b[0m\n",
            "\u001b[0;32m----> 1 \u001b[0;31m\u001b[0mfunc2\u001b[0m\u001b[0;34m(\u001b[0m\u001b[0;36m1\u001b[0m\u001b[0;34m)\u001b[0m\u001b[0;34m\u001b[0m\u001b[0;34m\u001b[0m\u001b[0m\n",
            "\u001b[0m\n",
            "ipdb> down\n",
            "> \u001b[0;32m<ipython-input-16-b8d84c2f64f3>\u001b[0m(7)\u001b[0;36mfunc2\u001b[0;34m()\u001b[0m\n",
            "\u001b[0;32m      3 \u001b[0;31m\u001b[0;34m\u001b[0m\u001b[0m\n",
            "\u001b[0m\u001b[0;32m      4 \u001b[0;31m\u001b[0;32mdef\u001b[0m \u001b[0mfunc2\u001b[0m\u001b[0;34m(\u001b[0m\u001b[0mx\u001b[0m\u001b[0;34m)\u001b[0m\u001b[0;34m:\u001b[0m\u001b[0;34m\u001b[0m\u001b[0;34m\u001b[0m\u001b[0m\n",
            "\u001b[0m\u001b[0;32m      5 \u001b[0;31m    \u001b[0ma\u001b[0m \u001b[0;34m=\u001b[0m \u001b[0mx\u001b[0m\u001b[0;34m\u001b[0m\u001b[0;34m\u001b[0m\u001b[0m\n",
            "\u001b[0m\u001b[0;32m      6 \u001b[0;31m    \u001b[0mb\u001b[0m \u001b[0;34m=\u001b[0m \u001b[0mx\u001b[0m \u001b[0;34m-\u001b[0m \u001b[0;36m1\u001b[0m\u001b[0;34m\u001b[0m\u001b[0;34m\u001b[0m\u001b[0m\n",
            "\u001b[0m\u001b[0;32m----> 7 \u001b[0;31m    \u001b[0;32mreturn\u001b[0m \u001b[0mfunc2\u001b[0m\u001b[0;34m(\u001b[0m\u001b[0ma\u001b[0m\u001b[0;34m,\u001b[0m \u001b[0mb\u001b[0m\u001b[0;34m)\u001b[0m\u001b[0;34m\u001b[0m\u001b[0;34m\u001b[0m\u001b[0m\n",
            "\u001b[0m\n",
            "ipdb> quit\n"
          ],
          "name": "stdout"
        }
      ]
    },
    {
      "cell_type": "markdown",
      "metadata": {
        "id": "lYPKh-73V_E1"
      },
      "source": [
        "selain itu dengan prompt interaktif ini step up dan down dari stack dan explore value variable yang ada"
      ]
    },
    {
      "cell_type": "code",
      "metadata": {
        "colab": {
          "base_uri": "https://localhost:8080/",
          "height": 430
        },
        "id": "RNEpaFjRTU8C",
        "outputId": "d88ca8c4-c6ec-4243-8af5-0d777acffa4b"
      },
      "source": [
        "%xmode Plain\n",
        "%pdb on\n",
        "func2(1)"
      ],
      "execution_count": null,
      "outputs": [
        {
          "output_type": "stream",
          "text": [
            "Exception reporting mode: Plain\n",
            "Automatic pdb calling has been turned ON\n"
          ],
          "name": "stdout"
        },
        {
          "output_type": "error",
          "ename": "TypeError",
          "evalue": "ignored",
          "traceback": [
            "Traceback \u001b[0;36m(most recent call last)\u001b[0m:\n",
            "  File \u001b[1;32m\"<ipython-input-41-9340853ee553>\"\u001b[0m, line \u001b[1;32m3\u001b[0m, in \u001b[1;35m<module>\u001b[0m\n    func2(1)\n",
            "\u001b[0;36m  File \u001b[0;32m\"<ipython-input-16-b8d84c2f64f3>\"\u001b[0;36m, line \u001b[0;32m7\u001b[0;36m, in \u001b[0;35mfunc2\u001b[0;36m\u001b[0m\n\u001b[0;31m    return func2(a, b)\u001b[0m\n",
            "\u001b[0;31mTypeError\u001b[0m\u001b[0;31m:\u001b[0m func2() takes 1 positional argument but 2 were given\n"
          ]
        },
        {
          "output_type": "stream",
          "text": [
            "> \u001b[0;32m<ipython-input-16-b8d84c2f64f3>\u001b[0m(7)\u001b[0;36mfunc2\u001b[0;34m()\u001b[0m\n",
            "\u001b[0;32m      3 \u001b[0;31m\u001b[0;34m\u001b[0m\u001b[0m\n",
            "\u001b[0m\u001b[0;32m      4 \u001b[0;31m\u001b[0;32mdef\u001b[0m \u001b[0mfunc2\u001b[0m\u001b[0;34m(\u001b[0m\u001b[0mx\u001b[0m\u001b[0;34m)\u001b[0m\u001b[0;34m:\u001b[0m\u001b[0;34m\u001b[0m\u001b[0;34m\u001b[0m\u001b[0m\n",
            "\u001b[0m\u001b[0;32m      5 \u001b[0;31m    \u001b[0ma\u001b[0m \u001b[0;34m=\u001b[0m \u001b[0mx\u001b[0m\u001b[0;34m\u001b[0m\u001b[0;34m\u001b[0m\u001b[0m\n",
            "\u001b[0m\u001b[0;32m      6 \u001b[0;31m    \u001b[0mb\u001b[0m \u001b[0;34m=\u001b[0m \u001b[0mx\u001b[0m \u001b[0;34m-\u001b[0m \u001b[0;36m1\u001b[0m\u001b[0;34m\u001b[0m\u001b[0;34m\u001b[0m\u001b[0m\n",
            "\u001b[0m\u001b[0;32m----> 7 \u001b[0;31m    \u001b[0;32mreturn\u001b[0m \u001b[0mfunc2\u001b[0m\u001b[0;34m(\u001b[0m\u001b[0ma\u001b[0m\u001b[0;34m,\u001b[0m \u001b[0mb\u001b[0m\u001b[0;34m)\u001b[0m\u001b[0;34m\u001b[0m\u001b[0;34m\u001b[0m\u001b[0m\n",
            "\u001b[0m\n",
            "--KeyboardInterrupt--\n",
            "ipdb> print(b)\n",
            "0\n",
            "ipdb> quit\n"
          ],
          "name": "stdout"
        }
      ]
    },
    {
      "cell_type": "markdown",
      "metadata": {
        "id": "Af2txUMzWx2s"
      },
      "source": [
        "hal ini memungkinkan kita dengan cepat apa yang menyebabkan kesalahan dalam exception selain itu kita juga bisa memanggil function yang kita inginkan\n",
        "Jika kita ingin debugger otomatis ditampilkan saat exception, bisa menggunakan magic function %pdb"
      ]
    },
    {
      "cell_type": "markdown",
      "metadata": {
        "id": "QeLcXNPEamoZ"
      },
      "source": [
        "**Profiling and Timing Code**\n",
        "\n",
        "IPython menyediakan akses ke file\n",
        "beragam fungsionalitas untuk jenis pengaturan waktu dan pembuatan profil kode"
      ]
    },
    {
      "cell_type": "code",
      "metadata": {
        "colab": {
          "base_uri": "https://localhost:8080/"
        },
        "id": "S_8gcwnJWLTx",
        "outputId": "3ab328c0-e878-4d34-9ccb-9af19120335b"
      },
      "source": [
        "%timeit sum(range(100))"
      ],
      "execution_count": null,
      "outputs": [
        {
          "output_type": "stream",
          "text": [
            "1000000 loops, best of 5: 1.09 µs per loop\n"
          ],
          "name": "stdout"
        }
      ]
    },
    {
      "cell_type": "markdown",
      "metadata": {
        "id": "_SAlzjk0ajSz"
      },
      "source": [
        "%timeit\n",
        "\n",
        "Waktu eksekusi berulang dari satu pernyataan untuk lebih akurat\n",
        "\n",
        "karena operasi ini sangat cepat,% timeit secara otomatis melakukan banyak hal\n",
        "pengulangan.\n",
        "\n",
        "Untuk perintah yang lebih lambat,% timeit akan secara otomatis menyesuaikan dan bekerja pengulangan lebih sedikit\n",
        "\n"
      ]
    },
    {
      "cell_type": "code",
      "metadata": {
        "colab": {
          "base_uri": "https://localhost:8080/"
        },
        "id": "XWMQM6EiX782",
        "outputId": "f6a2e88b-2981-45d7-f90b-9d7f6001c81a"
      },
      "source": [
        "%%timeit\n",
        "total = 0\n",
        "for i in range(1000):\n",
        "  for j in range(1000):\n",
        "    total += i * (-1) ** j"
      ],
      "execution_count": null,
      "outputs": [
        {
          "output_type": "stream",
          "text": [
            "1 loop, best of 5: 335 ms per loop\n"
          ],
          "name": "stdout"
        }
      ]
    },
    {
      "cell_type": "markdown",
      "metadata": {
        "id": "u3pOWaY4chil"
      },
      "source": [
        "terkadang mengulang-ulang operations bukan pilihan yang tepat.\n",
        "Misalnya kita ingin memnyortir\n",
        "Menyortir presortasi\n",
        "list jauh lebih cepat daripada menyortir daftar yang tidak diurutkan, sehingga pengulangan akan memiringkan\n",
        "hasil"
      ]
    },
    {
      "cell_type": "code",
      "metadata": {
        "colab": {
          "base_uri": "https://localhost:8080/"
        },
        "id": "5lltYX5hYENs",
        "outputId": "40003640-15f8-4e5f-8473-79b28d3003c0"
      },
      "source": [
        "import random\n",
        "L = [random.random() for i in range(100000)]\n",
        "%timeit L.sort()"
      ],
      "execution_count": null,
      "outputs": [
        {
          "output_type": "stream",
          "text": [
            "The slowest run took 32.74 times longer than the fastest. This could mean that an intermediate result is being cached.\n",
            "1000 loops, best of 5: 784 µs per loop\n"
          ],
          "name": "stdout"
        }
      ]
    },
    {
      "cell_type": "markdown",
      "metadata": {
        "id": "hDiu4CX2c7m3"
      },
      "source": [
        "untuk ini, %time adalah pilihan yang lebih tepat untuk comannd yang running lebih lama, untuk sort, system-delayed"
      ]
    },
    {
      "cell_type": "code",
      "metadata": {
        "colab": {
          "base_uri": "https://localhost:8080/"
        },
        "id": "e2HVHmx8ZHq9",
        "outputId": "feab3b7b-de8f-4170-dd40-ae965d523e97"
      },
      "source": [
        "import random\n",
        "L = [random.random() for i in range(100000)]\n",
        "print(\"sorting an unsorted list:\")\n",
        "%time L.sort()"
      ],
      "execution_count": null,
      "outputs": [
        {
          "output_type": "stream",
          "text": [
            "sorting an unsorted list:\n",
            "CPU times: user 27.3 ms, sys: 919 µs, total: 28.2 ms\n",
            "Wall time: 28 ms\n"
          ],
          "name": "stdout"
        }
      ]
    },
    {
      "cell_type": "code",
      "metadata": {
        "colab": {
          "base_uri": "https://localhost:8080/"
        },
        "id": "42hij_3gZLSS",
        "outputId": "d5996f39-c8b1-4707-a5d8-334bccbde2d9"
      },
      "source": [
        "print(\"sorting an already sorted list:\")\n",
        "%time L.sort()"
      ],
      "execution_count": null,
      "outputs": [
        {
          "output_type": "stream",
          "text": [
            "sorting an already sorted list:\n",
            "CPU times: user 2.86 ms, sys: 0 ns, total: 2.86 ms\n",
            "Wall time: 2.87 ms\n"
          ],
          "name": "stdout"
        }
      ]
    },
    {
      "cell_type": "markdown",
      "metadata": {
        "id": "afLehIvlfZ7q"
      },
      "source": [
        "terlihat perbandingan waktu yang dibutuhkan %time dan %timeit\n",
        "\n",
        "terbukti %timeit lebih pintar mencegah adanya waktu yang menggangu"
      ]
    },
    {
      "cell_type": "code",
      "metadata": {
        "colab": {
          "base_uri": "https://localhost:8080/"
        },
        "id": "O4pGW81AZTO3",
        "outputId": "a4fdab38-33df-4332-d52f-e9da3c595c7e"
      },
      "source": [
        "%%time\n",
        "total = 0\n",
        "for i in range(1000):\n",
        "  for j in range(1000):\n",
        "    total += i * (-1) ** j"
      ],
      "execution_count": null,
      "outputs": [
        {
          "output_type": "stream",
          "text": [
            "CPU times: user 418 ms, sys: 1.37 ms, total: 420 ms\n",
            "Wall time: 423 ms\n"
          ],
          "name": "stdout"
        }
      ]
    },
    {
      "cell_type": "markdown",
      "metadata": {
        "id": "ogcFx-qpgGXf"
      },
      "source": [
        "menggunakan double-percent-sign cell magix syntax memungkinkan timing dari mulitple script"
      ]
    },
    {
      "cell_type": "markdown",
      "metadata": {
        "id": "Qpoi6o_6gXIo"
      },
      "source": [
        "**Profiling Full Scripts: %prun**\n",
        "\n",
        "Pyhton memiliki built-in code profiller untuk membaca documentation, tapi pyhton memiliki cara yang lebih cepat untuk melihat profiled result dengan magic function %prun"
      ]
    },
    {
      "cell_type": "code",
      "metadata": {
        "id": "3XSwqImCZbK8"
      },
      "source": [
        "def sum_of_lists(N):\n",
        "  total = 0\n",
        "  for i in range(5):\n",
        "    L = [j ^ (j >> i) for j in range(N)]\n",
        "    total += sum(L)\n",
        "  return total"
      ],
      "execution_count": null,
      "outputs": []
    },
    {
      "cell_type": "code",
      "metadata": {
        "colab": {
          "base_uri": "https://localhost:8080/"
        },
        "id": "U-svLqHhZjK3",
        "outputId": "02938468-be30-42f9-82d4-0aa13ab99d5c"
      },
      "source": [
        "%prun sum_of_lists(1000000)"
      ],
      "execution_count": null,
      "outputs": [
        {
          "output_type": "stream",
          "text": [
            " "
          ],
          "name": "stdout"
        }
      ]
    },
    {
      "cell_type": "markdown",
      "metadata": {
        "id": "gEKDI_wshLZy"
      },
      "source": [
        "di notebook terlihat output di pager"
      ]
    },
    {
      "cell_type": "markdown",
      "metadata": {
        "id": "XyvoOUyfhaFG"
      },
      "source": [
        "**Line-by-Line Profiling with %lprun**\n",
        "\n",
        "adalah untuk melihat laporan profil baris demi baris\n",
        "\n",
        "pertama kita harus install packaging toolnya terlebih dahulu seperti di bawah :"
      ]
    },
    {
      "cell_type": "code",
      "metadata": {
        "colab": {
          "base_uri": "https://localhost:8080/"
        },
        "id": "UoxI5_VdZzV6",
        "outputId": "7b3a9638-2480-4c1e-d794-852240c2c10b"
      },
      "source": [
        "! pip install line_profiler"
      ],
      "execution_count": null,
      "outputs": [
        {
          "output_type": "stream",
          "text": [
            "Collecting line_profiler\n",
            "\u001b[?25l  Downloading https://files.pythonhosted.org/packages/da/ad/30ef6e8c8f3d4b4e08a197c7bf4154f001d14684fba2b693d813c2b4c692/line_profiler-3.1.0-cp37-cp37m-manylinux2010_x86_64.whl (63kB)\n",
            "\r\u001b[K     |█████▏                          | 10kB 14.5MB/s eta 0:00:01\r\u001b[K     |██████████▍                     | 20kB 17.5MB/s eta 0:00:01\r\u001b[K     |███████████████▌                | 30kB 21.5MB/s eta 0:00:01\r\u001b[K     |████████████████████▊           | 40kB 24.9MB/s eta 0:00:01\r\u001b[K     |█████████████████████████▉      | 51kB 27.0MB/s eta 0:00:01\r\u001b[K     |███████████████████████████████ | 61kB 9.7MB/s eta 0:00:01\r\u001b[K     |████████████████████████████████| 71kB 4.6MB/s \n",
            "\u001b[?25hRequirement already satisfied: IPython in /usr/local/lib/python3.7/dist-packages (from line_profiler) (5.5.0)\n",
            "Requirement already satisfied: decorator in /usr/local/lib/python3.7/dist-packages (from IPython->line_profiler) (4.4.2)\n",
            "Requirement already satisfied: pickleshare in /usr/local/lib/python3.7/dist-packages (from IPython->line_profiler) (0.7.5)\n",
            "Requirement already satisfied: traitlets>=4.2 in /usr/local/lib/python3.7/dist-packages (from IPython->line_profiler) (5.0.5)\n",
            "Requirement already satisfied: pygments in /usr/local/lib/python3.7/dist-packages (from IPython->line_profiler) (2.6.1)\n",
            "Requirement already satisfied: setuptools>=18.5 in /usr/local/lib/python3.7/dist-packages (from IPython->line_profiler) (54.2.0)\n",
            "Requirement already satisfied: pexpect; sys_platform != \"win32\" in /usr/local/lib/python3.7/dist-packages (from IPython->line_profiler) (4.8.0)\n",
            "Requirement already satisfied: prompt-toolkit<2.0.0,>=1.0.4 in /usr/local/lib/python3.7/dist-packages (from IPython->line_profiler) (1.0.18)\n",
            "Requirement already satisfied: simplegeneric>0.8 in /usr/local/lib/python3.7/dist-packages (from IPython->line_profiler) (0.8.1)\n",
            "Requirement already satisfied: ipython-genutils in /usr/local/lib/python3.7/dist-packages (from traitlets>=4.2->IPython->line_profiler) (0.2.0)\n",
            "Requirement already satisfied: ptyprocess>=0.5 in /usr/local/lib/python3.7/dist-packages (from pexpect; sys_platform != \"win32\"->IPython->line_profiler) (0.7.0)\n",
            "Requirement already satisfied: wcwidth in /usr/local/lib/python3.7/dist-packages (from prompt-toolkit<2.0.0,>=1.0.4->IPython->line_profiler) (0.2.5)\n",
            "Requirement already satisfied: six>=1.9.0 in /usr/local/lib/python3.7/dist-packages (from prompt-toolkit<2.0.0,>=1.0.4->IPython->line_profiler) (1.15.0)\n",
            "Installing collected packages: line-profiler\n",
            "Successfully installed line-profiler-3.1.0\n"
          ],
          "name": "stdout"
        }
      ]
    },
    {
      "cell_type": "markdown",
      "metadata": {
        "id": "712eY7BAom8M"
      },
      "source": [
        "Selanjutnya, kita bisa menggunakan IPython untuk memuat ekstensi line_profiler IPython, ditawarkan sebagai\n",
        "bagian dari paket ini:"
      ]
    },
    {
      "cell_type": "code",
      "metadata": {
        "id": "RoMTslLhiRww"
      },
      "source": [
        "%load_ext line_profiler"
      ],
      "execution_count": null,
      "outputs": []
    },
    {
      "cell_type": "markdown",
      "metadata": {
        "id": "Ktarw5NWowIa"
      },
      "source": [
        "%lpurn akan membuat laporan profil line-by-line pada kasus dibawah"
      ]
    },
    {
      "cell_type": "code",
      "metadata": {
        "id": "ananHhsaiTry"
      },
      "source": [
        "%lprun -f sum_of_lists sum_of_lists(5000)"
      ],
      "execution_count": null,
      "outputs": []
    },
    {
      "cell_type": "markdown",
      "metadata": {
        "id": "7eO86kptpEAL"
      },
      "source": [
        "hasilnya akan dikirimkan ke pager"
      ]
    },
    {
      "cell_type": "markdown",
      "metadata": {
        "id": "OPbBocEGpLyQ"
      },
      "source": [
        "**Profiling Memory Use: %memit and %mprun**\n",
        "\n",
        "Aspek lain dari pembuatan profil adalah jumlah memori yang digunakan operasi. Ini bisa jadi\n",
        "dievaluasi dengan ekstensi IPython lain, memory_profiler. Seperti halnya\n",
        "line_profiler, kita mulai dengan memasang pip ekstensi:"
      ]
    },
    {
      "cell_type": "code",
      "metadata": {
        "colab": {
          "base_uri": "https://localhost:8080/"
        },
        "id": "U_Z4wCS0iYhW",
        "outputId": "bd84cabb-8aac-4610-fa48-122a10d21624"
      },
      "source": [
        "! pip install memory_profiler"
      ],
      "execution_count": null,
      "outputs": [
        {
          "output_type": "stream",
          "text": [
            "Collecting memory_profiler\n",
            "  Downloading https://files.pythonhosted.org/packages/8f/fd/d92b3295657f8837e0177e7b48b32d6651436f0293af42b76d134c3bb489/memory_profiler-0.58.0.tar.gz\n",
            "Requirement already satisfied: psutil in /usr/local/lib/python3.7/dist-packages (from memory_profiler) (5.4.8)\n",
            "Building wheels for collected packages: memory-profiler\n",
            "  Building wheel for memory-profiler (setup.py) ... \u001b[?25l\u001b[?25hdone\n",
            "  Created wheel for memory-profiler: filename=memory_profiler-0.58.0-cp37-none-any.whl size=30180 sha256=fcfe5b19d419448f174747fec8d1b351f5646d094df7df839f46bb0a5b2ac0d9\n",
            "  Stored in directory: /root/.cache/pip/wheels/02/e4/0b/aaab481fc5dd2a4ea59e78bc7231bb6aae7635ca7ee79f8ae5\n",
            "Successfully built memory-profiler\n",
            "Installing collected packages: memory-profiler\n",
            "Successfully installed memory-profiler-0.58.0\n"
          ],
          "name": "stdout"
        }
      ]
    },
    {
      "cell_type": "markdown",
      "metadata": {
        "id": "MEZuSjzjpfjW"
      },
      "source": [
        "kemudian kita bisa gunakan extensionnya"
      ]
    },
    {
      "cell_type": "code",
      "metadata": {
        "id": "tMDzCjD9ic-1"
      },
      "source": [
        "%load_ext memory_profiler"
      ],
      "execution_count": null,
      "outputs": []
    },
    {
      "cell_type": "markdown",
      "metadata": {
        "id": "nCfcKp_zpuZZ"
      },
      "source": [
        "Ekstensi profiler memori berisi dua magic function yang berguna:\n",
        "% memit magic \n",
        "(yang menawarkan pengukuran memori yang setara dengan% timeit) \n",
        "% mprun \n",
        "fungsi (yang menawarkan pengukuran memori yang setara dengan% lprun). \n",
        "Fungsi% memit\n",
        "dapat digunakan secara sederhana seperti dibawah ini, dilihat function dibawah menggunakan sekitar 200an MiB"
      ]
    },
    {
      "cell_type": "code",
      "metadata": {
        "colab": {
          "base_uri": "https://localhost:8080/"
        },
        "id": "bJfkJW6HixCb",
        "outputId": "6c205b47-9500-431c-d1f0-4448ec984307"
      },
      "source": [
        "%memit sum_of_lists(1000000)"
      ],
      "execution_count": null,
      "outputs": [
        {
          "output_type": "stream",
          "text": [
            "peak memory: 243.42 MiB, increment: 50.26 MiB\n"
          ],
          "name": "stdout"
        }
      ]
    },
    {
      "cell_type": "markdown",
      "metadata": {
        "id": "Vh9zlS7Oqbe3"
      },
      "source": [
        "untuk mendeskripisikan penggunaan memory baris per baris bisa menggunakan %mprun magic, namun itu hanya berfungsi untuk fungsi yang ditentukan dalam modul terpisah, bukan notebook itu sendiri, jadi kita akan menggunakan %%file magic untuk membuat simple modul yg disebut mprun_demo.py yang mengandung fungsi sum_of_list "
      ]
    },
    {
      "cell_type": "code",
      "metadata": {
        "colab": {
          "base_uri": "https://localhost:8080/"
        },
        "id": "Qz93YMrui1UI",
        "outputId": "527d34fb-c081-4666-f50a-ded35ee5e56f"
      },
      "source": [
        "%%file mprun_demo.py\n",
        "def sum_of_lists(N):\n",
        "  total = 0\n",
        "  for i in range(5):\n",
        "    L = [j ^ (j >> i) for j in range(N)]\n",
        "    total += sum(L)\n",
        "    del L # remove reference to L\n",
        "  return total"
      ],
      "execution_count": null,
      "outputs": [
        {
          "output_type": "stream",
          "text": [
            "Overwriting mprun_demo.py\n"
          ],
          "name": "stdout"
        }
      ]
    },
    {
      "cell_type": "markdown",
      "metadata": {
        "id": "VhXK4zwCrLZt"
      },
      "source": [
        "Sekarang kita sudah bisa import versi baru dari fungsi ini dan run memory line profiler nya"
      ]
    },
    {
      "cell_type": "code",
      "metadata": {
        "colab": {
          "base_uri": "https://localhost:8080/",
          "height": 313
        },
        "id": "yU37FDopjGEZ",
        "outputId": "2f7a0c6d-6c73-44b4-baa5-e99530c028ba"
      },
      "source": [
        "from mprun_demo import sum_of_lists\n",
        "%mprun -f sum_of_lists sum_of_lists(1000000)"
      ],
      "execution_count": null,
      "outputs": [
        {
          "output_type": "error",
          "ename": "ModuleNotFoundError",
          "evalue": "ignored",
          "traceback": [
            "\u001b[0;31m---------------------------------------------------------------------------\u001b[0m",
            "\u001b[0;31mModuleNotFoundError\u001b[0m                       Traceback (most recent call last)",
            "\u001b[0;32m<ipython-input-1-63d0f8736b02>\u001b[0m in \u001b[0;36m<module>\u001b[0;34m()\u001b[0m\n\u001b[0;32m----> 1\u001b[0;31m \u001b[0;32mfrom\u001b[0m \u001b[0mmprun_demo\u001b[0m \u001b[0;32mimport\u001b[0m \u001b[0msum_of_lists\u001b[0m\u001b[0;34m\u001b[0m\u001b[0;34m\u001b[0m\u001b[0m\n\u001b[0m\u001b[1;32m      2\u001b[0m \u001b[0mget_ipython\u001b[0m\u001b[0;34m(\u001b[0m\u001b[0;34m)\u001b[0m\u001b[0;34m.\u001b[0m\u001b[0mmagic\u001b[0m\u001b[0;34m(\u001b[0m\u001b[0;34m'mprun -f sum_of_lists sum_of_lists(1000000)'\u001b[0m\u001b[0;34m)\u001b[0m\u001b[0;34m\u001b[0m\u001b[0;34m\u001b[0m\u001b[0m\n",
            "\u001b[0;31mModuleNotFoundError\u001b[0m: No module named 'mprun_demo'",
            "",
            "\u001b[0;31m---------------------------------------------------------------------------\u001b[0;32m\nNOTE: If your import is failing due to a missing package, you can\nmanually install dependencies using either !pip or !apt.\n\nTo view examples of installing some common dependencies, click the\n\"Open Examples\" button below.\n\u001b[0;31m---------------------------------------------------------------------------\u001b[0m\n"
          ]
        }
      ]
    },
    {
      "cell_type": "markdown",
      "metadata": {
        "id": "7MbPnTRPOgjm"
      },
      "source": [
        "column2 tersebut memberitahu kita memberi tahu kita seberapa besar setiap baris memengaruhi total memori\n",
        "budget"
      ]
    }
  ]
}